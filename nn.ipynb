{
 "cells": [
  {
   "cell_type": "markdown",
   "id": "d4b4eb9f",
   "metadata": {},
   "source": [
    "# Primer Proyecto Redes neuronales"
   ]
  },
  {
   "cell_type": "code",
   "execution_count": null,
   "id": "ba492f4d-21b3-4ce3-ac62-e8ee7a3af836",
   "metadata": {},
   "outputs": [],
   "source": []
  }
 ],
 "metadata": {
  "kernelspec": {
   "display_name": "Python 3 (ipykernel)",
   "language": "python",
   "name": "python3"
  },
  "language_info": {
   "codemirror_mode": {
    "name": "ipython",
    "version": 3
   },
   "file_extension": ".py",
   "mimetype": "text/x-python",
   "name": "python",
   "nbconvert_exporter": "python",
   "pygments_lexer": "ipython3",
   "version": "3.13.5"
  }
 },
 "nbformat": 4,
 "nbformat_minor": 5
}
